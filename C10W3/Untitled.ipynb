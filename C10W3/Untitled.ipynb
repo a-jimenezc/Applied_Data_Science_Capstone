{
 "cells": [
  {
   "cell_type": "code",
   "execution_count": 1,
   "id": "a3fd941b-9d9a-4bf6-b253-8ce763fbd7c5",
   "metadata": {},
   "outputs": [],
   "source": [
    "# Import required libraries\n",
    "import pandas as pd\n",
    "import dash\n",
    "from dash import dcc\n",
    "from dash import html\n",
    "from dash.dependencies import Input, Output, State\n",
    "from jupyter_dash import JupyterDash\n",
    "import plotly.graph_objects as go\n",
    "import plotly.express as px\n",
    "from dash import no_update"
   ]
  },
  {
   "cell_type": "code",
   "execution_count": 2,
   "id": "6b31d7f2-2898-43f9-8a9c-f0a5ca36583f",
   "metadata": {},
   "outputs": [
    {
     "name": "stdout",
     "output_type": "stream",
     "text": [
      "Dash app running on http://127.0.0.1:8050/\n"
     ]
    }
   ],
   "source": [
    "# Read the airline data into pandas dataframe\n",
    "spacex_df = pd.read_csv(\"spacex_launch_dash.csv\")\n",
    "max_payload = spacex_df['Payload Mass (kg)'].max()\n",
    "min_payload = spacex_df['Payload Mass (kg)'].min()\n",
    "\n",
    "# Create a dash application\n",
    "app = JupyterDash(__name__)\n",
    "app.config.suppress_callback_exceptions = True\n",
    "\n",
    "# Create an app layout\n",
    "app.layout = html.Div(children=[html.H1('SpaceX Launch Records Dashboard',\n",
    "                                        style={'textAlign': 'center', 'color': '#503D36',\n",
    "                                               'font-size': 40}),\n",
    "                                # TASK 1: Add a dropdown list to enable Launch Site selection\n",
    "                                # The default select value is for ALL sites\n",
    "                                # dcc.Dropdown(id='site-dropdown',...)\n",
    "                                  dcc.Dropdown(id='site-dropdown',\n",
    "                                  options=[\n",
    "                                      {'label': 'All Sites', 'value': 'ALL'},\n",
    "                                      {'label': 'CCAFS LC-40', 'value': 'CCAFS LC-40'},\n",
    "                                      {'label': 'CCAFS SLC-40', 'value': 'CCAFS SLC-40'},\n",
    "                                      {'label': 'KSC LC-39A', 'value': 'KSC LC-39A'},\n",
    "                                      {'label': 'VAFB SLC-4E', 'value': 'VAFB SLC-4E'},\n",
    "                                      ],\n",
    "                                      value='ALL',\n",
    "                                      placeholder=\"place holder here\",\n",
    "                                      searchable=True\n",
    "                                      ),\n",
    "                                html.Br(),\n",
    "                                html.Div(dcc.Graph(id='success-pie-chart')),\n",
    "                                html.Br(),\n",
    "                                html.P(\"Payload range (Kg):\"),\n",
    "                                # TASK 3: Add a slider to select payload range\n",
    "                                dcc.RangeSlider(id='payload-slider',\n",
    "                                                min=0, max=10000, step=1000,\n",
    "                                                marks={0: '0',\n",
    "                                                       2500: '2500',\n",
    "                                                      5000: '5000',\n",
    "                                                      10000: '10000'},\n",
    "                                                value=[0, 10000]),\n",
    "                                html.Div(dcc.Graph(id='success-payload-scatter-chart')),\n",
    "                               ])\n",
    "\n",
    "\n",
    "\n",
    "# TASK 2: Add a pie chart to show the total successful launches count for all sites\n",
    "# If a specific launch site was selected, show the Success vs. Failed counts for the site\n",
    "\n",
    "@app.callback(Output(component_id='success-pie-chart', component_property='figure'),\n",
    "Input(component_id='site-dropdown', component_property='value'))\n",
    "def get_pie_chart(entered_site):\n",
    "    filtered_df = spacex_df\n",
    "    if entered_site == 'ALL':\n",
    "        fig = px.pie(filtered_df, values='class', #to count from a different column\n",
    "        names='Launch Site', \n",
    "        title='Total number of launches per site')\n",
    "        return fig \n",
    "    else:\n",
    "        filtered_df = spacex_df[spacex_df['Launch Site'] == entered_site]\n",
    "        fig = px.pie(filtered_df, \n",
    "                             names='class', \n",
    "                             title='Total number of launches for selected site')\n",
    "        return fig \n",
    "\n",
    "# TASK 4: Add a scatter chart to show the correlation between payload and launch success\n",
    "\n",
    "# TASK 4:\n",
    "# Add a callback function for `site-dropdown` and `payload-slider` as inputs, `success-payload-scatter-chart` as output\n",
    "\n",
    "@app.callback(Output(component_id='success-payload-scatter-chart', component_property='figure'),\n",
    "[Input(component_id='site-dropdown', component_property='value'),\n",
    " Input(component_id=\"payload-slider\", component_property=\"value\")\n",
    "])\n",
    "def get_scatter(entered_site, slider_range):\n",
    "    low,high = slider_range\n",
    "    filtered_df = spacex_df[spacex_df['Payload Mass (kg)'].between(low,high)]\n",
    "    if entered_site == 'ALL':\n",
    "        fig= px.scatter(\n",
    "            filtered_df, x=\"Payload Mass (kg)\", y=\"class\",\n",
    "            color=\"Booster Version Category\",\n",
    "            hover_data=['Booster Version'],\n",
    "            title=\"Correlation between Payload and Success for all Sites\")\n",
    "        return fig \n",
    "    else:\n",
    "        filtered_df = spacex_df[spacex_df['Launch Site'] == entered_site]\n",
    "        fig=px.scatter(\n",
    "                    filtered_df,x='Payload Mass (kg)', y='class', \n",
    "                    title = 'Success by Payload for selected site', \n",
    "                    color='Booster Version Category')\n",
    "        return fig \n",
    "\n",
    "\n",
    "# Run the app\n",
    "if __name__ == '__main__':\n",
    "    app.run_server()"
   ]
  },
  {
   "cell_type": "code",
   "execution_count": 3,
   "id": "a3a11928-dc6f-4617-8190-23fd1c723daf",
   "metadata": {},
   "outputs": [
    {
     "data": {
      "text/plain": [
       "Index(['Unnamed: 0', 'Flight Number', 'Launch Site', 'class',\n",
       "       'Payload Mass (kg)', 'Booster Version', 'Booster Version Category'],\n",
       "      dtype='object')"
      ]
     },
     "execution_count": 3,
     "metadata": {},
     "output_type": "execute_result"
    }
   ],
   "source": [
    "total = spacex_df['class'].sum()\n",
    "spacex_df['class'].mean()\n",
    "spacex_df.columns"
   ]
  }
 ],
 "metadata": {
  "kernelspec": {
   "display_name": "Python 3 (ipykernel)",
   "language": "python",
   "name": "python3"
  },
  "language_info": {
   "codemirror_mode": {
    "name": "ipython",
    "version": 3
   },
   "file_extension": ".py",
   "mimetype": "text/x-python",
   "name": "python",
   "nbconvert_exporter": "python",
   "pygments_lexer": "ipython3",
   "version": "3.11.1"
  }
 },
 "nbformat": 4,
 "nbformat_minor": 5
}
